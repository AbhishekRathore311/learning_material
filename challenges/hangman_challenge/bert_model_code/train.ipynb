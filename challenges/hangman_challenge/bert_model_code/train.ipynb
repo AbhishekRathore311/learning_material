{
 "cells": [
  {
   "cell_type": "markdown",
   "metadata": {},
   "source": [
    "# Imports"
   ]
  },
  {
   "cell_type": "code",
   "execution_count": 1,
   "metadata": {},
   "outputs": [
    {
     "name": "stderr",
     "output_type": "stream",
     "text": [
      "c:\\Users\\lenovo\\AppData\\Local\\Programs\\Python\\Python39\\lib\\site-packages\\tqdm\\auto.py:21: TqdmWarning: IProgress not found. Please update jupyter and ipywidgets. See https://ipywidgets.readthedocs.io/en/stable/user_install.html\n",
      "  from .autonotebook import tqdm as notebook_tqdm\n"
     ]
    }
   ],
   "source": [
    "from transformers import BertTokenizer, TFBertForMaskedLM, BertConfig\n",
    "import tensorflow as tf\n",
    "import os\n",
    "import numpy as np\n",
    "import re\n",
    "import matplotlib.pyplot as plt\n",
    "from tqdm import tqdm"
   ]
  },
  {
   "cell_type": "markdown",
   "metadata": {},
   "source": [
    "# Initialize tokenizer"
   ]
  },
  {
   "cell_type": "code",
   "execution_count": 8,
   "metadata": {},
   "outputs": [],
   "source": [
    "tokenizer = BertTokenizer(\n",
    "    vocab_file=\"./vocab.txt\"\n",
    ")"
   ]
  },
  {
   "cell_type": "code",
   "execution_count": 9,
   "metadata": {},
   "outputs": [
    {
     "data": {
      "text/plain": [
       "BertTokenizer(name_or_path='', vocab_size=26, model_max_length=1000000000000000019884624838656, is_fast=False, padding_side='right', truncation_side='right', special_tokens={'unk_token': '[UNK]', 'sep_token': '[SEP]', 'pad_token': '[PAD]', 'cls_token': '[CLS]', 'mask_token': '[MASK]'}, clean_up_tokenization_spaces=True),  added_tokens_decoder={\n",
       "\t26: AddedToken(\"[UNK]\", rstrip=False, lstrip=False, single_word=False, normalized=False, special=True),\n",
       "\t27: AddedToken(\"[SEP]\", rstrip=False, lstrip=False, single_word=False, normalized=False, special=True),\n",
       "\t28: AddedToken(\"[PAD]\", rstrip=False, lstrip=False, single_word=False, normalized=False, special=True),\n",
       "\t29: AddedToken(\"[CLS]\", rstrip=False, lstrip=False, single_word=False, normalized=False, special=True),\n",
       "\t30: AddedToken(\"[MASK]\", rstrip=False, lstrip=False, single_word=False, normalized=False, special=True),\n",
       "}"
      ]
     },
     "execution_count": 9,
     "metadata": {},
     "output_type": "execute_result"
    }
   ],
   "source": [
    "tokenizer"
   ]
  },
  {
   "cell_type": "markdown",
   "metadata": {},
   "source": [
    "# Initialize Token"
   ]
  },
  {
   "cell_type": "code",
   "execution_count": 4,
   "metadata": {},
   "outputs": [],
   "source": [
    "# model = TFBertForMaskedLM.from_pretrained('bert-base-uncased')"
   ]
  },
  {
   "cell_type": "code",
   "execution_count": 10,
   "metadata": {},
   "outputs": [],
   "source": [
    "config = BertConfig(\n",
    "    vocab_size = 31, \n",
    "    hidden_size = 64, \n",
    "    num_hidden_layers = 2, \n",
    "    num_attention_heads = 1, \n",
    "    intermediate_size = 64, \n",
    "    hidden_act = \"gelu\", \n",
    "    hidden_dropout_prob = 0.1, \n",
    "    attention_probs_dropout_prob = 0.1, \n",
    "    max_position_embeddings = 40, \n",
    "    type_vocab_size = 1, \n",
    "    initializer_range = 0.02,\n",
    "    layer_norm_eps = 1e-12, \n",
    "    pad_token_id = 28\n",
    ")"
   ]
  },
  {
   "cell_type": "code",
   "execution_count": 11,
   "metadata": {},
   "outputs": [],
   "source": [
    "model = TFBertForMaskedLM(config=config)"
   ]
  },
  {
   "cell_type": "code",
   "execution_count": 15,
   "metadata": {},
   "outputs": [],
   "source": [
    "# dir(model)"
   ]
  },
  {
   "cell_type": "markdown",
   "metadata": {},
   "source": [
    "# Load Dataset"
   ]
  },
  {
   "cell_type": "code",
   "execution_count": 2,
   "metadata": {},
   "outputs": [
    {
     "data": {
      "text/plain": [
       "['aaa', 'aaaaaa']"
      ]
     },
     "execution_count": 2,
     "metadata": {},
     "output_type": "execute_result"
    }
   ],
   "source": [
    "## Load Dataset\n",
    "data_location = \"../data/words_250000_train.txt\"\n",
    "with open(data_location,'r') as f:\n",
    "    word_list = f.read().splitlines()\n",
    "word_list[:2]"
   ]
  },
  {
   "cell_type": "code",
   "execution_count": 3,
   "metadata": {},
   "outputs": [
    {
     "data": {
      "text/plain": [
       "227300"
      ]
     },
     "execution_count": 3,
     "metadata": {},
     "output_type": "execute_result"
    }
   ],
   "source": [
    "word_list = list(set(word_list))\n",
    "len(word_list)"
   ]
  },
  {
   "cell_type": "code",
   "execution_count": 4,
   "metadata": {},
   "outputs": [],
   "source": [
    "def get_clean_word(word):\n",
    "    clean_word = list(word.strip().lower())\n",
    "    return clean_word"
   ]
  },
  {
   "cell_type": "code",
   "execution_count": 5,
   "metadata": {},
   "outputs": [
    {
     "name": "stderr",
     "output_type": "stream",
     "text": [
      "100%|██████████| 227300/227300 [00:01<00:00, 183651.12it/s]\n"
     ]
    }
   ],
   "source": [
    "train_word_list = []\n",
    "train_word_length_list = []\n",
    "for word in tqdm(word_list):\n",
    "    if len(word) >=3:\n",
    "        clean_word = get_clean_word(word)\n",
    "        train_word_list.append(clean_word)\n",
    "        train_word_length_list.append(len(clean_word))"
   ]
  },
  {
   "cell_type": "code",
   "execution_count": 6,
   "metadata": {},
   "outputs": [],
   "source": [
    "char_count_dict = {}\n",
    "for word in train_word_list:\n",
    "    for c in word:\n",
    "        if(c in char_count_dict.keys()):\n",
    "            char_count_dict[c] += 1\n",
    "        else:\n",
    "            char_count_dict[c] = 1"
   ]
  },
  {
   "cell_type": "code",
   "execution_count": 9,
   "metadata": {},
   "outputs": [
    {
     "data": {
      "text/plain": [
       "{'e': 233720,\n",
       " 'i': 184721,\n",
       " 'a': 179815,\n",
       " 'n': 152238,\n",
       " 'o': 150029,\n",
       " 'r': 149202,\n",
       " 's': 148441,\n",
       " 't': 137257,\n",
       " 'l': 122410,\n",
       " 'c': 89340,\n",
       " 'u': 77282,\n",
       " 'd': 74830,\n",
       " 'p': 65765,\n",
       " 'm': 62173,\n",
       " 'h': 58025,\n",
       " 'g': 51834,\n",
       " 'y': 40969,\n",
       " 'b': 39823,\n",
       " 'f': 26409,\n",
       " 'v': 21037,\n",
       " 'k': 18667,\n",
       " 'w': 17705,\n",
       " 'z': 8735,\n",
       " 'x': 6030,\n",
       " 'q': 3970,\n",
       " 'j': 3774}"
      ]
     },
     "execution_count": 9,
     "metadata": {},
     "output_type": "execute_result"
    }
   ],
   "source": [
    "dict(sorted(char_count_dict.items(), key=lambda item: item[1], reverse=True))"
   ]
  },
  {
   "cell_type": "code",
   "execution_count": 20,
   "metadata": {},
   "outputs": [
    {
     "data": {
      "text/plain": [
       "(227019,\n",
       " [['o', 'v', 'e', 'r', 'c', 'o', 'm', 'm', 'i', 't', 'e', 'd'],\n",
       "  ['p', 'a', 'e', 'g', 'l', 'e']])"
      ]
     },
     "execution_count": 20,
     "metadata": {},
     "output_type": "execute_result"
    }
   ],
   "source": [
    "len(train_word_list), train_word_list[:2]"
   ]
  },
  {
   "cell_type": "code",
   "execution_count": 21,
   "metadata": {},
   "outputs": [
    {
     "name": "stdout",
     "output_type": "stream",
     "text": [
      "dict_keys(['input_ids', 'token_type_ids', 'attention_mask'])\n"
     ]
    }
   ],
   "source": [
    "inputs = tokenizer(train_word_list, is_split_into_words=True, max_length=40, truncation=True, padding='max_length', return_tensors='tf')\n",
    "print(inputs.keys())"
   ]
  },
  {
   "cell_type": "code",
   "execution_count": 22,
   "metadata": {},
   "outputs": [
    {
     "data": {
      "text/plain": [
       "<tf.Tensor: shape=(1, 40), dtype=int32, numpy=\n",
       "array([[29, 14, 21,  4, 17,  2, 14, 12, 12,  8, 19,  4,  3, 27, 28, 28,\n",
       "        28, 28, 28, 28, 28, 28, 28, 28, 28, 28, 28, 28, 28, 28, 28, 28,\n",
       "        28, 28, 28, 28, 28, 28, 28, 28]])>"
      ]
     },
     "execution_count": 22,
     "metadata": {},
     "output_type": "execute_result"
    }
   ],
   "source": [
    "inputs[\"input_ids\"][:1]"
   ]
  },
  {
   "cell_type": "code",
   "execution_count": 23,
   "metadata": {},
   "outputs": [
    {
     "data": {
      "text/plain": [
       "dict_keys(['input_ids', 'token_type_ids', 'attention_mask', 'labels'])"
      ]
     },
     "execution_count": 23,
     "metadata": {},
     "output_type": "execute_result"
    }
   ],
   "source": [
    "inputs['labels'] = inputs['input_ids']\n",
    "inputs.keys()"
   ]
  },
  {
   "cell_type": "code",
   "execution_count": 24,
   "metadata": {},
   "outputs": [
    {
     "name": "stderr",
     "output_type": "stream",
     "text": [
      "  0%|          | 821/227019 [00:00<00:27, 8157.03it/s]"
     ]
    },
    {
     "name": "stderr",
     "output_type": "stream",
     "text": [
      "100%|██████████| 227019/227019 [00:20<00:00, 11107.87it/s]\n"
     ]
    }
   ],
   "source": [
    "## Masking Input tokens\n",
    "inp_ids = []\n",
    "idx = 0\n",
    "for inp in tqdm(inputs.input_ids.numpy()):\n",
    "    actual_tokens = list(set(range(40)) - set(np.where((inp == 26) | (inp == 27) | (inp == 28) | (inp == 29))[0].tolist()))\n",
    "    #We need to select 15% random tokens from the given list\n",
    "    num_of_token_to_mask = int(len(actual_tokens)*0.15)\n",
    "    token_to_mask = np.random.choice(np.array(actual_tokens), size=num_of_token_to_mask, replace=False).tolist()\n",
    "    #Now we have the indices where we need to mask the tokens\n",
    "    inp[token_to_mask] = 30\n",
    "    inp_ids.append(inp)\n",
    "    idx += 1\n",
    "inp_ids = tf.convert_to_tensor(inp_ids)\n",
    "inputs['input_ids'] = inp_ids"
   ]
  },
  {
   "cell_type": "code",
   "execution_count": 25,
   "metadata": {},
   "outputs": [
    {
     "data": {
      "text/plain": [
       "227019"
      ]
     },
     "execution_count": 25,
     "metadata": {},
     "output_type": "execute_result"
    }
   ],
   "source": [
    "idx"
   ]
  },
  {
   "cell_type": "code",
   "execution_count": 26,
   "metadata": {},
   "outputs": [
    {
     "name": "stdout",
     "output_type": "stream",
     "text": [
      "Epoch 1/10\n",
      "23/23 - 429s - loss: 3.1743 - 429s/epoch - 19s/step\n",
      "Epoch 2/10\n",
      "23/23 - 467s - loss: 2.7387 - 467s/epoch - 20s/step\n",
      "Epoch 3/10\n",
      "23/23 - 385s - loss: 2.4564 - 385s/epoch - 17s/step\n",
      "Epoch 4/10\n",
      "23/23 - 366s - loss: 2.2178 - 366s/epoch - 16s/step\n",
      "Epoch 5/10\n",
      "23/23 - 370s - loss: 1.9935 - 370s/epoch - 16s/step\n",
      "Epoch 6/10\n",
      "23/23 - 369s - loss: 1.7896 - 369s/epoch - 16s/step\n",
      "Epoch 7/10\n",
      "23/23 - 373s - loss: 1.6080 - 373s/epoch - 16s/step\n",
      "Epoch 8/10\n",
      "23/23 - 346s - loss: 1.4484 - 346s/epoch - 15s/step\n",
      "Epoch 9/10\n",
      "23/23 - 342s - loss: 1.3088 - 342s/epoch - 15s/step\n",
      "Epoch 10/10\n",
      "23/23 - 344s - loss: 1.1876 - 344s/epoch - 15s/step\n"
     ]
    }
   ],
   "source": [
    "model.compile(\n",
    "    optimizer=tf.keras.optimizers.Adam(learning_rate=0.0001),\n",
    "    loss=tf.keras.losses.SparseCategoricalCrossentropy(from_logits=True)\n",
    ")\n",
    "history = model.fit(\n",
    "    [inputs.input_ids, inputs.attention_mask],\n",
    "    inputs.labels,\n",
    "    verbose=2,\n",
    "    batch_size=10000,\n",
    "    epochs=10\n",
    ")"
   ]
  },
  {
   "cell_type": "code",
   "execution_count": 50,
   "metadata": {},
   "outputs": [
    {
     "data": {
      "text/plain": [
       "'e'"
      ]
     },
     "execution_count": 50,
     "metadata": {},
     "output_type": "execute_result"
    }
   ],
   "source": [
    "query = [\"b\", \"o\", \"[MASK]\"]\n",
    "inp = tokenizer(query, is_split_into_words=True, return_tensors='tf')\n",
    "mask_loc = np.where(inp.input_ids.numpy()[0] == 30)[0].tolist()\n",
    "out = model(inp).logits[0].numpy()\n",
    "predicted_tokens = np.argmax(out[mask_loc], axis=1).tolist()\n",
    "tokenizer.decode(predicted_tokens)"
   ]
  },
  {
   "cell_type": "code",
   "execution_count": 58,
   "metadata": {},
   "outputs": [
    {
     "data": {
      "text/plain": [
       "array([[-0.27679357, -0.338985  , -0.10742649,  0.10083949, -0.9210248 ,\n",
       "        -0.09017365, -0.3276728 ,  0.05279489, -0.3647586 , -0.09019911,\n",
       "        -0.05861327, -0.13069992, -0.06866825, -0.21243714,  0.40576547,\n",
       "         0.2650085 , -0.18225044, -0.19266751,  0.3916106 , -0.31123182,\n",
       "        -0.12884448, -0.05248813,  0.16782619, -0.08273708,  0.21478567,\n",
       "        -0.4324103 , -0.4283368 ,  0.06984731,  0.03559908,  1.797891  ,\n",
       "        -0.11240901],\n",
       "       [ 0.07614097,  1.069359  ,  0.8810755 ,  0.83474195,  0.56857467,\n",
       "         0.68590575,  0.8021957 ,  0.67443436,  0.3109207 ,  0.45508862,\n",
       "         0.50094163,  0.50113755,  0.64731544,  0.66054267,  0.43858123,\n",
       "         0.44719502,  0.5319291 ,  0.22216901,  0.63286906,  0.94916785,\n",
       "         0.92308116,  0.56172955,  0.517453  ,  0.49069142,  0.57480425,\n",
       "         0.47428   ,  0.5744245 , -0.03283438, -1.0423594 ,  0.0631012 ,\n",
       "         0.34942305],\n",
       "       [-0.66965026, -0.10346151, -0.10133345,  0.08920237,  0.03573318,\n",
       "         0.12726669, -0.371734  , -0.48375914,  0.06466974, -0.12755002,\n",
       "         0.00799824, -0.19442792, -0.30775684, -0.03161794,  1.6479253 ,\n",
       "         0.44816464, -0.08575092, -0.02870773, -0.05302251, -0.41601884,\n",
       "         0.07316156, -0.3254464 ,  0.3912053 , -0.10435247, -0.02224049,\n",
       "        -0.5381477 , -0.18014942, -0.08536033, -0.05513594,  0.38291448,\n",
       "         0.06628275],\n",
       "       [ 0.50400436,  0.23087716,  0.28792006,  0.4043331 ,  0.93134356,\n",
       "         0.02867615,  0.3269698 ,  0.24848747,  0.49590683,  0.19071604,\n",
       "         0.24087799,  0.8140164 ,  0.3143149 ,  0.8158927 ,  0.71883905,\n",
       "         0.40723562,  0.23801248,  0.68739223,  0.1061902 ,  0.74007607,\n",
       "         0.6420632 ,  0.04344878,  0.10000312,  0.12746163,  0.35526234,\n",
       "        -0.00564452, -0.03514972,  0.12465345, -0.7663742 ,  0.45842618,\n",
       "         0.21574704],\n",
       "       [ 0.5796933 , -0.16201034,  0.21580963, -0.17261532, -0.60484916,\n",
       "        -0.17357692, -0.03066285, -0.26949114,  0.05398107, -0.251221  ,\n",
       "        -0.03350947,  0.2584272 , -0.0554343 ,  0.04078779, -0.02090131,\n",
       "         0.19588368, -0.30259702,  0.22947687,  0.24111375, -0.23208594,\n",
       "        -0.4336587 , -0.08044354, -0.20294186, -0.00267753, -0.45179147,\n",
       "         0.00292392, -0.11163971,  2.0469418 , -0.14514904,  0.12905484,\n",
       "        -0.13796306]], dtype=float32)"
      ]
     },
     "execution_count": 58,
     "metadata": {},
     "output_type": "execute_result"
    }
   ],
   "source": [
    "out"
   ]
  },
  {
   "cell_type": "code",
   "execution_count": 57,
   "metadata": {},
   "outputs": [
    {
     "data": {
      "text/plain": [
       "array([28, 26, 25,  5, 21, 22, 18, 27, 23,  9, 30,  1, 16, 10,  7,  2, 12,\n",
       "        6, 24,  3, 15, 29,  8,  0, 20, 17, 14, 19, 11, 13,  4],\n",
       "      dtype=int64)"
      ]
     },
     "execution_count": 57,
     "metadata": {},
     "output_type": "execute_result"
    }
   ],
   "source": [
    "np.argsort(out[mask_loc][0])"
   ]
  },
  {
   "cell_type": "code",
   "execution_count": 49,
   "metadata": {},
   "outputs": [
    {
     "data": {
      "image/png": "[encoded data removed]",
      "text/plain": [
       "<Figure size 500x500 with 1 Axes>"
      ]
     },
     "metadata": {},
     "output_type": "display_data"
    }
   ],
   "source": [
    "losses = history.history['loss']\n",
    "fig = plt.figure(figsize=(5,5))\n",
    "ax1 = fig.add_subplot(111)\n",
    "ax1.plot(range(len(losses)),losses)\n",
    "ax1.set_xlabel(\"Epochs\")\n",
    "ax1.set_ylabel(\"Loss\")\n",
    "ax1.set_title(\"Epoch vs Loss\")\n",
    "plt.grid()\n",
    "plt.show()"
   ]
  },
  {
   "cell_type": "code",
   "execution_count": null,
   "metadata": {},
   "outputs": [],
   "source": []
  }
 ],
 "metadata": {
  "kernelspec": {
   "display_name": "Python 3",
   "language": "python",
   "name": "python3"
  },
  "language_info": {
   "codemirror_mode": {
    "name": "ipython",
    "version": 3
   },
   "file_extension": ".py",
   "mimetype": "text/x-python",
   "name": "python",
   "nbconvert_exporter": "python",
   "pygments_lexer": "ipython3",
   "version": "3.9.13"
  }
 },
 "nbformat": 4,
 "nbformat_minor": 2
}
