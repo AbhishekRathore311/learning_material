{
 "cells": [
  {
   "cell_type": "code",
   "execution_count": 54,
   "metadata": {
    "colab": {
     "base_uri": "https://localhost:8080/"
    },
    "id": "eUKTUG5zsGGt",
    "outputId": "872eef83-67b4-42fe-e112-0ec235c93e27"
   },
   "outputs": [
    {
     "name": "stdout",
     "output_type": "stream",
     "text": [
      "{'g': 2, 'o': 3, 'l': 1, 'e': 1, '.': 1, 'c': 1, 'm': 1}\n"
     ]
    }
   ],
   "source": [
    "word = \"google.com\"\n",
    "res_dict = {}\n",
    "for cur_char in word:\n",
    "  if(cur_char in res_dict):\n",
    "    res_dict[cur_char] += 1\n",
    "  else:\n",
    "    res_dict[cur_char] = 1\n",
    "print(res_dict)"
   ]
  },
  {
   "cell_type": "code",
   "execution_count": null,
   "metadata": {
    "id": "I4ka0L6sL7xO"
   },
   "outputs": [],
   "source": [
    "# Custom Funtions and Recursion\n",
    "## Custom Funtions\n",
    "## We have seen inbuilt functions provided by Python\n",
    "## len(), print(), input()\n",
    "\n",
    "## Custom funtion is a function which will be written by you\n",
    "## How to write a custom function\n",
    "## custom --> the code will be written by you\n",
    "## function -->\n",
    "## --> some block of code which you write and you can use this code anywhere\n",
    "## --> you provide some inputs to the function and you get some output based on the code"
   ]
  },
  {
   "cell_type": "code",
   "execution_count": 3,
   "metadata": {
    "id": "KMDJFGjoMzBf"
   },
   "outputs": [],
   "source": [
    "# if statement --> if or else and inside the body of this, we used to write some valid python code\n",
    "# for or while --> you can write a valid Python code inside its block\n",
    "# function --> you will write a block of code and there you can write any valide Python code\n",
    "\n",
    "# valide Python code --> anything | some statement | if else | for while"
   ]
  },
  {
   "cell_type": "code",
   "execution_count": 4,
   "metadata": {
    "id": "d_swRi9iNYaR"
   },
   "outputs": [],
   "source": [
    "def add_two_numbers(num_1, num_2):\n",
    "  # Block of code for this function\n",
    "  result = num_1 + num_2\n",
    "  return result\n",
    "\n",
    "# def keyword --> define\n",
    "# name of function --> add_two_numbers (should be meaningful)\n",
    "# Input parameters are inside parenthesis --> these parameters can be used insie function\n",
    "## using their name\n",
    "# You define a funtion by writing the code then that function can be called anywhere using its name\n",
    "## while calling the finction you will give the input parameter value"
   ]
  },
  {
   "cell_type": "code",
   "execution_count": 7,
   "metadata": {
    "colab": {
     "base_uri": "https://localhost:8080/"
    },
    "id": "OaSfdAIHPos9",
    "outputId": "db5c44f7-93d5-4a7a-c465-a1ae3dc9c06b"
   },
   "outputs": [
    {
     "name": "stdout",
     "output_type": "stream",
     "text": [
      "7\n"
     ]
    }
   ],
   "source": [
    "## 1. You define a function by writing its code\n",
    "## 2. You call the function anywhere in the program by giving the inputs and get the desired result\n",
    "def add_2_numbers(num_1, num_2):\n",
    "  result = num_1 + num_2\n",
    "  return result # return statement\n",
    "  ## this returns the output from the function\n",
    "\n",
    "output = add_2_numbers(3, 4) # Line execution order = 3, 4, 5\n",
    "print(output)"
   ]
  },
  {
   "cell_type": "code",
   "execution_count": null,
   "metadata": {
    "id": "K1bv62gIQvWT"
   },
   "outputs": [],
   "source": [
    "# def len(sequence):\n",
    "#   # the code to get lenght of this equence\n",
    "#   return length"
   ]
  },
  {
   "cell_type": "code",
   "execution_count": 5,
   "metadata": {
    "colab": {
     "base_uri": "https://localhost:8080/"
    },
    "id": "d0u93ec7OeEj",
    "outputId": "80ce272c-8184-43fb-bd64-1356479678ae"
   },
   "outputs": [
    {
     "name": "stdout",
     "output_type": "stream",
     "text": [
      "5\n"
     ]
    }
   ],
   "source": [
    "result = add_two_numbers(num_2=2, num_1=3)\n",
    "print(result)"
   ]
  },
  {
   "cell_type": "code",
   "execution_count": 6,
   "metadata": {
    "colab": {
     "base_uri": "https://localhost:8080/"
    },
    "id": "vWh59zxYOoAo",
    "outputId": "cea035ee-1dc5-4238-f275-2adc2bbd0504"
   },
   "outputs": [
    {
     "name": "stdout",
     "output_type": "stream",
     "text": [
      "10\n"
     ]
    }
   ],
   "source": [
    "result = add_two_numbers(4, 6)\n",
    "print(result)"
   ]
  },
  {
   "cell_type": "code",
   "execution_count": 15,
   "metadata": {
    "colab": {
     "base_uri": "https://localhost:8080/"
    },
    "id": "2HcsQDYTRANN",
    "outputId": "5d293327-8a5e-4f32-b394-9137b226e4bf"
   },
   "outputs": [
    {
     "name": "stdout",
     "output_type": "stream",
     "text": [
      "5\n"
     ]
    }
   ],
   "source": [
    "## Input paramters\n",
    "# 1. you can write only parameter names -(num_1, num_2)\n",
    "# 2. You can provide some default values to the parameters as well with the paramter names\n",
    "# (num_1=2, num_2=4)\n",
    "# While calling the function if user does not provide the input values then these will be used\n",
    "\n",
    "## Incase of default values\n",
    "## You must write non default value parameters first then default values parameters\n",
    "def add_2_numbers(num_1,  num_2=2): #(<input_param>=<default_value>)\n",
    "  result = num_1 + num_2\n",
    "  return result # return statement\n",
    "  ## this returns the output from the function\n",
    "\n",
    "output = add_2_numbers(num_1 = 3) # Line execution order = 3, 4, 5\n",
    "print(output)\n",
    "# The values which we we give to input parameters --> these are called arguments"
   ]
  },
  {
   "cell_type": "code",
   "execution_count": 17,
   "metadata": {
    "id": "cUwTe-yOS-_-"
   },
   "outputs": [],
   "source": [
    "# docstring\n",
    "## docstring is special string for a function\n",
    "## which you can write inside function\n",
    "## this is used to give info about input paramters, task of the function, retun of the function etc\n",
    "def add_2_numbers(num_1,  num_2=2):\n",
    "  \"\"\"\n",
    "  Adds 2 numbers\n",
    "  Parameters:\n",
    "    num_1 (int): input number 1\n",
    "    num_2 (int, default_value=2): input number 2\n",
    "  Returns:\n",
    "    result (int): sum of num_1 and num_2\n",
    "  \"\"\"\n",
    "  result = num_1 + num_2\n",
    "  return result"
   ]
  },
  {
   "cell_type": "code",
   "execution_count": null,
   "metadata": {
    "id": "9RaRT7OXUU2l"
   },
   "outputs": [],
   "source": [
    "# How to define and call a function\n",
    "# Parameters, default value --> default values are optional\n",
    "# Return statement --> is also optional\n",
    "# Docstring --> Optional"
   ]
  },
  {
   "cell_type": "code",
   "execution_count": 27,
   "metadata": {
    "id": "wdC5BxHuUi36"
   },
   "outputs": [],
   "source": [
    "def add_2_numbers(num_2:\"Provide one integer\", num_1:\"Provide one integer\"=2):\n",
    "  \"\"\"\n",
    "  Adds 2 numbers\n",
    "  Parameters:\n",
    "    num_1 (int): input number 1\n",
    "    num_2 (int, default_value=2): input number 2\n",
    "  Returns:\n",
    "    result (int): sum of num_1 and num_2\n",
    "  \"\"\"\n",
    "  result = num_1 + num_2\n",
    "  print(result)"
   ]
  },
  {
   "cell_type": "code",
   "execution_count": 28,
   "metadata": {
    "colab": {
     "base_uri": "https://localhost:8080/"
    },
    "id": "ajcg4EDEUmx3",
    "outputId": "725bbbc4-8bd0-4aaf-f2f9-b52e8a4a818d"
   },
   "outputs": [
    {
     "name": "stdout",
     "output_type": "stream",
     "text": [
      "6\n"
     ]
    }
   ],
   "source": [
    "add_2_numbers(num_2=2, num_1 = 4) # calling this function"
   ]
  },
  {
   "cell_type": "code",
   "execution_count": null,
   "metadata": {
    "id": "9pfHYCDETFwq"
   },
   "outputs": [],
   "source": [
    "output = add_2_numbers(num_1 = 3)\n",
    "print(output)"
   ]
  },
  {
   "cell_type": "markdown",
   "metadata": {
    "id": "BMTPNLgaMXM_"
   },
   "source": [
    "# **👨🏻‍🎓 Learning Objective 👨🏻‍🎓**"
   ]
  },
  {
   "cell_type": "markdown",
   "metadata": {
    "id": "hQVMGQLeMdv0"
   },
   "source": [
    "###**Introduction**\n",
    "👋 Welcome, students! Today, we'll be diving into the exciting world of custom functions! 💻🤖 Functions are like building blocks in programming, and mastering them is essential for writing efficient and reusable code. In this lesson, we'll cover how to define your own custom functions in Python, how to pass arguments to them, and how to return values. We'll also explore best practices for designing and naming functions, as well as some common pitfalls to avoid. By the end of this lesson, you'll have a solid understanding of functions and be ready to start creating your own custom functions! 🔧💪🚀\n",
    "\n",
    "\n",
    "* Class Duration: 2 hour\n",
    "* Assignment Duration: 1 hour\n",
    "* Focus: Custom functions, scope of functions, Introduction to Recursion\n",
    "\n",
    "\n",
    "###**Primary Goals**\n",
    "\n",
    "* Understand the concept of custom functions and their importance in programming. 💻🤖\n",
    "* Learn how to define and call custom functions in Python. 🔧💪\n",
    "* Understand how to pass arguments to custom functions and return values. 🔍👀\n",
    "* Explore best practices for designing and naming custom functions. 📏📝\n",
    "* Identify and avoid common pitfalls when working with custom functions. 🚫💣\n",
    "* Apply your newfound knowledge to create your own custom functions! 🚀👨‍💻\n",
    "\n",
    "\n",
    "\n",
    "\n",
    "\n",
    "\n",
    "\n",
    "\n",
    "\n",
    "\n",
    "\n"
   ]
  },
  {
   "cell_type": "markdown",
   "metadata": {
    "id": "yT9eLw4YqqRW"
   },
   "source": [
    "# **📖 Learning Material 📖**"
   ]
  },
  {
   "cell_type": "markdown",
   "metadata": {
    "id": "lyJTvCn42Qxg"
   },
   "source": [
    "Today's lesson is all about Custom Functions in programming. Custom functions are user-defined functions in a programming language that allow developers to encapsulate a block of code with a specific functionality, which can be called repeatedly throughout their programs.\n",
    "\n",
    "🔍🔪 We'll dive into using Custom Functions of Python and play a critical role in programming.\n",
    "\n",
    "🔢🍴 By the end of this lesson, you'll have a solid grasp of how to utilize Loops and iterations in your code.\n",
    "\n",
    "🚀 So, let's get started and learn these essential skills!"
   ]
  },
  {
   "cell_type": "markdown",
   "metadata": {
    "id": "AUiIsQg9Ucrl"
   },
   "source": [
    "##**Introduction to Custom Functions**"
   ]
  },
  {
   "cell_type": "markdown",
   "metadata": {
    "id": "tIkNz0CnU0Nr"
   },
   "source": [
    "👋 Hi there! Custom functions 🛠️ are blocks of code created by programmers to perform specific tasks or operations within a program. They can be created in most programming languages and are often used to simplify and modularize code by separating out specific functions that can be called upon multiple times within the program.\n",
    "\n",
    "A custom function 🧰 can be designed to take one or more input parameters 🎛️, which can be used to customize its behavior. These parameters allow the function to be called with different arguments, enabling it to perform the same operation on different sets of data 📊. The output of a function can also be customized, allowing it to return specific results based on its inputs.\n",
    "\n",
    "One of the main advantages of custom functions is that they can be reused ♻️ throughout a program or even across multiple programs 🌐. This reduces the amount of code that needs to be written, which can save time and effort 💪. Custom functions also make code easier to read and understand because they encapsulate complex operations in a single function with a clear name and purpose 🤓.\n",
    "\n",
    "Custom functions are widely used in programming tasks such as data processing, mathematical calculations 🧮, and user interface design 🖥️. They are an essential tool 🔧 for any programmer looking to write efficient and maintainable code.\n"
   ]
  },
  {
   "cell_type": "markdown",
   "metadata": {
    "id": "IFRQ_hhcX3Ut"
   },
   "source": [
    "###Let's break down the syntax:"
   ]
  },
  {
   "cell_type": "markdown",
   "metadata": {
    "id": "OMBq6vqFXrkm"
   },
   "source": [
    "**In Python, you can create your own functions using the def keyword. Here is the basic syntax for defining a function:**"
   ]
  },
  {
   "cell_type": "code",
   "execution_count": 1,
   "metadata": {
    "id": "Gh8q7hpNAY5e"
   },
   "outputs": [],
   "source": [
    "def add(a: \"first parameter\" = 2, b: \"second parameter\" = 3):\n",
    "  return (a + b)"
   ]
  },
  {
   "cell_type": "code",
   "execution_count": 2,
   "metadata": {
    "colab": {
     "base_uri": "https://localhost:8080/"
    },
    "id": "Ixp2EYCUAlok",
    "outputId": "fb2ea4f8-793b-4755-c0a7-fa92baa28b18"
   },
   "outputs": [
    {
     "data": {
      "text/plain": [
       "7"
      ]
     },
     "execution_count": 2,
     "metadata": {},
     "output_type": "execute_result"
    }
   ],
   "source": [
    "add(3, 4)"
   ]
  },
  {
   "cell_type": "code",
   "execution_count": null,
   "metadata": {
    "id": "9tz72ZVeXypT"
   },
   "outputs": [],
   "source": [
    "def function_name(parameters :\"Parameter Hints\" = \"Default Parameter Value\"):\n",
    "  \"\"\"\n",
    "  Docstring\n",
    "\n",
    "  \"\"\"\n",
    "    # function code goes here\n",
    "\n",
    "  return output_value"
   ]
  },
  {
   "cell_type": "markdown",
   "metadata": {
    "id": "NYBDZzhoYELE"
   },
   "source": [
    "* **def**: This keyword indicates the start of a function definition. It stands for \"define\"\n",
    "\n",
    "\n",
    "\n",
    "* **Function_name**: This is the name of the function you are defining.\n",
    "\n",
    "* **Parameters**: These are the input values that the function will take. They are optional, and you can have as many or as few as you need.\n",
    "\n",
    "* **Parameter Hints** : Pressing \"Shift+Tab\" while calling a function will display the parameter hints that were initially defined.\n",
    "\n",
    "* **Default Parameter Value** : If a value is not provided when calling a function, this value will be used instead.\n",
    "\n",
    "* **Docstring** : A docstring is a string literal that appears as the first statement in a module, function, class, or method definition. Its purpose is to provide documentation for the code and to describe what the function does, what arguments it takes, and what it returns.\n",
    "\n",
    "* **Function code** : This is the code that gets executed when the function is called. It can be any valid Python code.\n",
    "\n",
    "* **return**: This keyword indicates the value that the function will return. This is also optional, and you can have multiple return statements in a function."
   ]
  },
  {
   "cell_type": "markdown",
   "metadata": {
    "id": "x5Nd7_pDWmiq"
   },
   "source": [
    "###Real-Time Application"
   ]
  },
  {
   "cell_type": "markdown",
   "metadata": {
    "id": "Hww_Pm91Wur0"
   },
   "source": [
    "Imagine that you are the manager of a coffee shop ☕️ and you need to keep track of your sales for each day of the week. However, you don't want to manually enter the sales data for each day because it's time-consuming and prone to errors.\n",
    "\n",
    "So, you decide to create a custom function 📊 that automatically calculates the total sales for each day of the week. You start by defining the function name, let's call it \"calculate_sales\", and specifying the inputs required, which are the sales figures for each day.\n",
    "\n",
    "Then, you write the code for the function to sum up the sales figures and return the total. You can also add some conditional statements to handle errors or special cases, such as if there are no sales on a particular day.\n",
    "\n",
    "Now, every time you enter the sales figures for a day, you can simply use the \"calculate_sales\" function to get the total for that day. This saves you time and reduces the risk of errors. 🙌"
   ]
  },
  {
   "cell_type": "code",
   "execution_count": 29,
   "metadata": {
    "id": "2GY2yF7lTDTh"
   },
   "outputs": [],
   "source": [
    "# You are some merchant\n",
    "# You want to write one function\n",
    "# Given sales per day in a week --> input to the function\n",
    "# Output --> total sale in that week\n",
    "\n",
    "def calculate_sales(\n",
    "  monday_sales=0,\n",
    "  tuesday_sales=0,\n",
    "  wednesday_sales=0,\n",
    "  thursday_sales=0,\n",
    "  friday_sales=0,\n",
    "  saturday_sales=0,\n",
    "  sunday_sales=0\n",
    "):\n",
    "  \"\"\"\n",
    "  Calculates the total sales for a given week by adding up the sales for each day of the week.\n",
    "\n",
    "  Args:\n",
    "    monday_sales (float): Sales figure for Monday.\n",
    "    tuesday_sales (float): Sales figure for Tuesday.\n",
    "    wednesday_sales (float): Sales figure for Wednesday.\n",
    "    thursday_sales (float): Sales figure for Thursday.\n",
    "    friday_sales (float): Sales figure for Friday.\n",
    "    saturday_sales (float): Sales figure for Saturday.\n",
    "    sunday_sales (float): Sales figure for Sunday.\n",
    "\n",
    "  Returns:\n",
    "    float: The total sales for the week.\n",
    "  \"\"\"\n",
    "  # Sum up the sales figures for each day of the week\n",
    "  total_sales = (\n",
    "    monday_sales +\n",
    "    tuesday_sales +\n",
    "    wednesday_sales +\n",
    "    thursday_sales +\n",
    "    friday_sales +\n",
    "    saturday_sales +\n",
    "    sunday_sales\n",
    "  )\n",
    "\n",
    "  # Return the total sales\n",
    "  return total_sales\n"
   ]
  },
  {
   "cell_type": "code",
   "execution_count": 30,
   "metadata": {
    "colab": {
     "base_uri": "https://localhost:8080/"
    },
    "id": "uqtZl0GGUBqX",
    "outputId": "3ad40856-5daf-4b1b-8348-3688fce25aba"
   },
   "outputs": [
    {
     "name": "stdout",
     "output_type": "stream",
     "text": [
      "1330\n"
     ]
    }
   ],
   "source": [
    "total_sales = calculate_sales(\n",
    "  monday_sales = 100,\n",
    "  tuesday_sales = 200,\n",
    "  wednesday_sales=150,\n",
    "  thursday_sales=300,\n",
    "  friday_sales=250,\n",
    "  saturday_sales=180,\n",
    "  sunday_sales=150\n",
    ")\n",
    "print(total_sales)"
   ]
  },
  {
   "cell_type": "markdown",
   "metadata": {
    "id": "1a0eYCcsay13"
   },
   "source": [
    "###Now let's work around a few problems to help you to strengthen the concepts you learned."
   ]
  },
  {
   "cell_type": "markdown",
   "metadata": {
    "id": "3N4pFPooXXOY"
   },
   "source": [
    "##**Activity 1:**"
   ]
  },
  {
   "cell_type": "markdown",
   "metadata": {
    "id": "xEAp0llDZKp-"
   },
   "source": [
    "Write a program which would calculate the count of each unique characters in a words and returns an appropriate dictionary. Use a custom function to achieve this.\n",
    "\n",
    "word = \"Custom Function\""
   ]
  },
  {
   "cell_type": "code",
   "execution_count": 31,
   "metadata": {
    "colab": {
     "base_uri": "https://localhost:8080/"
    },
    "id": "NfxJ45FeXLuR",
    "outputId": "8e736a94-8445-4541-e072-d8b9bb5d28ea"
   },
   "outputs": [
    {
     "name": "stdout",
     "output_type": "stream",
     "text": [
      "{'a': 2, 'l': 1, 'm': 1, 'b': 1, 'e': 2, 't': 2, 'r': 1}\n"
     ]
    }
   ],
   "source": [
    "# Custom funtion\n",
    "# The code will be similar to the previous class\n",
    "\n",
    "## Word --> input para to the function\n",
    "## Count of each unique char\n",
    "## return a dict --> {<key>: <values>}\n",
    "## key = char, value = count of that char in the word\n",
    "\n",
    "# word = \"almabetter\"\n",
    "# unique_char_count_dict = {\n",
    "#     \"a\": 2,\n",
    "#     \"l\": 1,\n",
    "#     \"m\": 1,\n",
    "#     \"b\": 1,\n",
    "#     \"e\": 2,\n",
    "#     \"t\": 2,\n",
    "#     \"r\": 1\n",
    "# }\n",
    "\n",
    "## unique_char_count_dict = {}\n",
    "## 1. Go over each char using for\n",
    "## 2. check if the char is present in the dict --> increase the value at the key by 1\n",
    "## unique_char_count_dict[current_char] += 1\n",
    "## 3. if the char is not present in the dict --> add that key in dict and value as 1\n",
    "## unique_char_count_dict[current_char] = 1\n",
    "\n",
    "def count_unique_chars(word):\n",
    "  unique_char_count_dict = {}\n",
    "  for current_char in word: # \"almabetter\" | current_char = a, l, m, a\n",
    "    if(current_char in unique_char_count_dict): # check if current_char in keys\n",
    "      unique_char_count_dict[current_char] += 1\n",
    "    else:\n",
    "      unique_char_count_dict[current_char] = 1\n",
    "    # unique_char_count_dict = {\"a\": 2, \"l\": 1, \"m\": 1}\n",
    "  return unique_char_count_dict\n",
    "\n",
    "print(count_unique_chars(word=\"almabetter\"))"
   ]
  },
  {
   "cell_type": "code",
   "execution_count": null,
   "metadata": {
    "id": "PKEO8mxwGEoi"
   },
   "outputs": [],
   "source": [
    "def count_letters(word):    # We are choosing not to provide a default parameter.\n",
    "    \"\"\"\n",
    "    Counts the frequency of each letter in a given word and returns a dictionary with the letter counts.\n",
    "\n",
    "    Args:\n",
    "        word (str): The word to count the letters in.\n",
    "\n",
    "    Returns:\n",
    "        dict: A dictionary containing the count of each letter in the word.\n",
    "    \"\"\"\n",
    "# Try out here\n",
    "word = \"Custom Function\""
   ]
  },
  {
   "cell_type": "markdown",
   "metadata": {
    "id": "I-8NSj4kGG5W"
   },
   "source": [
    "###Solution"
   ]
  },
  {
   "cell_type": "code",
   "execution_count": null,
   "metadata": {
    "id": "4oce0mwpZXtO"
   },
   "outputs": [],
   "source": [
    "def count_letters(word):    # We are choosing not to provide a default parameter.\n",
    "    \"\"\"\n",
    "    Counts the frequency of each letter in a given word and returns a dictionary with the letter counts.\n",
    "\n",
    "    Args:\n",
    "        word (str): The word to count the letters in.\n",
    "\n",
    "    Returns:\n",
    "        dict: A dictionary containing the count of each letter in the word.\n",
    "    \"\"\"\n",
    "    # Initialize an empty dictionary to hold the letter counts\n",
    "    letter_counts = {}\n",
    "\n",
    "    # Loop through each letter in the word\n",
    "    for letter in word.lower():\n",
    "        # If the letter is already in the dictionary, increment its count\n",
    "        if letter in letter_counts:\n",
    "            letter_counts[letter] += 1\n",
    "        # Otherwise, add the letter to the dictionary with a count of 1\n",
    "        else:\n",
    "            letter_counts[letter] = 1\n",
    "\n",
    "    # Return the dictionary of letter counts\n",
    "    return letter_counts\n"
   ]
  },
  {
   "cell_type": "code",
   "execution_count": null,
   "metadata": {
    "colab": {
     "base_uri": "https://localhost:8080/"
    },
    "id": "IgMg0vUvZeYC",
    "outputId": "00b6f05d-f52b-4d51-ae11-d6df0731da41"
   },
   "outputs": [
    {
     "name": "stdout",
     "output_type": "stream",
     "text": [
      "{'c': 2, 'u': 2, 's': 1, 't': 2, 'o': 2, 'm': 1, ' ': 1, 'f': 1, 'n': 2, 'i': 1}\n"
     ]
    }
   ],
   "source": [
    "word = \"Custom Function\"\n",
    "letter_counts = count_letters(word)\n",
    "print(letter_counts)"
   ]
  },
  {
   "cell_type": "code",
   "execution_count": null,
   "metadata": {
    "id": "jpsk6AxwaRDC"
   },
   "outputs": [],
   "source": [
    "# Global and local variables\n",
    "## Global variable --> is a var which can be used anywhere\n",
    "## at any part of code --> outside or inside any function\n",
    "## Global variable will be defined or used first time only outside a function"
   ]
  },
  {
   "cell_type": "code",
   "execution_count": 36,
   "metadata": {
    "colab": {
     "base_uri": "https://localhost:8080/"
    },
    "id": "13JFK2U-alRA",
    "outputId": "e76e0879-aec0-49e8-d816-0b7fa3c79701"
   },
   "outputs": [
    {
     "name": "stdout",
     "output_type": "stream",
     "text": [
      "11\n",
      "5\n"
     ]
    }
   ],
   "source": [
    "my_var = 5 # Defined or used first here\n",
    "# A global variable\n",
    "# Global varible which has global scope -->\n",
    "# can be used outside or inside any function\n",
    "def add_2(num_1, num_2):\n",
    "  ## my_var is not provided as input in the function\n",
    "  ## nor this is defined inside function\n",
    "  ## still we can use this inside function --> bcz this is global variable\n",
    "\n",
    "  ## But if you want to use a global var inside a function\n",
    "  global my_var # Indicating a global var my_var is being used in this function\n",
    "\n",
    "  ## You modify a global variable outside or inside a function also\n",
    "  my_var += 1\n",
    "\n",
    "  res = num_1 + num_2 + my_var\n",
    "  return res\n",
    "\n",
    "print(add_2(num_1=2, num_2=3))\n",
    "\n",
    "my_var -= 1\n",
    "print(my_var)"
   ]
  },
  {
   "cell_type": "code",
   "execution_count": 45,
   "metadata": {
    "colab": {
     "base_uri": "https://localhost:8080/"
    },
    "id": "PaiEQ_D2byTS",
    "outputId": "506fc023-d832-471f-8b0b-535840fbb54f"
   },
   "outputs": [
    {
     "name": "stdout",
     "output_type": "stream",
     "text": [
      "7\n",
      "None\n",
      "4\n",
      "None\n"
     ]
    }
   ],
   "source": [
    "my_var = 1\n",
    "\n",
    "# If you have multiple functions\n",
    "# And you want to use glabl var inside functions\n",
    "# Then writing global my_var is mandatory\n",
    "\n",
    "def add_2(num_1, num_2):\n",
    "  global my_var\n",
    "  my_var += 1\n",
    "  res = num_1 + num_2 + my_var\n",
    "  print(res)\n",
    "\n",
    "def subtract_2(num_1, num_2):\n",
    "  global my_var\n",
    "  my_var += 1\n",
    "  res = num_1 - num_2 + my_var\n",
    "  print(res)\n",
    "\n",
    "print(add_2(num_1=3, num_2=2)) # --> 7 # my_var = 2\n",
    "print(subtract_2(num_1=3, num_2=2)) # --> 4 # my_var = 3"
   ]
  },
  {
   "cell_type": "code",
   "execution_count": 46,
   "metadata": {
    "colab": {
     "base_uri": "https://localhost:8080/"
    },
    "id": "ulNCZBEAfWtV",
    "outputId": "5a130f69-56bc-43d9-bf9b-06d540035734"
   },
   "outputs": [
    {
     "name": "stdout",
     "output_type": "stream",
     "text": [
      "5\n"
     ]
    }
   ],
   "source": [
    "# Custom function --> User defined function\n",
    "# Reuse code by calling function\n",
    "def add_2_num(num_1, num_2):\n",
    "  \"\"\"\n",
    "  Sum 2 nums\n",
    "  Args:\n",
    "    num_1 .......\n",
    "    num_2 .....\n",
    "  Return\n",
    "    ....: ......\n",
    "  \"\"\"\n",
    "  result = num_1 + num_2\n",
    "  return result\n",
    "\n",
    "## Calling th function\n",
    "output = add_2_num(num_1=2, num_2=3) # 8, 3, 4, 5, 8\n",
    "print(output)"
   ]
  },
  {
   "cell_type": "markdown",
   "metadata": {
    "id": "lW2qGy9yKIT9"
   },
   "source": [
    "##**Global and Local Variables** 🌎\n"
   ]
  },
  {
   "cell_type": "markdown",
   "metadata": {
    "id": "hp6v0GUWPT11"
   },
   "source": [
    "**🔴PROMPT : You need not go through the reading material word by word during the lecture. Giving a brief of the concept would suffice. Ask the students to read the content post class.🔴**"
   ]
  },
  {
   "cell_type": "markdown",
   "metadata": {
    "id": "qSZ-dpLkKNB_"
   },
   "source": [
    "In Python, variables that are defined outside of a function are called global variables, while variables that are defined inside a function are called local variables. The scope of a variable refers to the area of the program where it can be accessed and used.\n",
    "\n",
    "Global variables can be accessed and modified by any part of the program, including within functions. However, local variables are only accessible within the function where they are defined.\n",
    "\n",
    "Here's an example to illustrate the concept of global and local variables in custom functions:"
   ]
  },
  {
   "cell_type": "code",
   "execution_count": null,
   "metadata": {
    "colab": {
     "base_uri": "https://localhost:8080/"
    },
    "id": "Rtzu3oTSKTcE",
    "outputId": "0cd34bdc-57c3-4bd0-ac98-91f5ec7070d3"
   },
   "outputs": [
    {
     "name": "stdout",
     "output_type": "stream",
     "text": [
      "Global variable value:  15\n",
      "Local variable value:  20\n"
     ]
    }
   ],
   "source": [
    "# Defining a global variable\n",
    "global_var = 10\n",
    "\n",
    "def modify_global_var():\n",
    "    \"\"\"\n",
    "    Modifies the global variable by adding 5 to its current value.\n",
    "    \"\"\"\n",
    "    # Accessing the global variable\n",
    "    global global_var\n",
    "\n",
    "    # Modifying the global variable\n",
    "    global_var += 5\n",
    "\n",
    "def use_local_var():\n",
    "    \"\"\"\n",
    "    Prints the value of a local variable.\n",
    "    \"\"\"\n",
    "    # Defining a local variable\n",
    "    local_var = 20\n",
    "\n",
    "    # Printing the value of the local variable\n",
    "    print(\"Local variable value: \", local_var)\n",
    "\n",
    "# Calling the functions\n",
    "\n",
    "# Modifying the global variable using the modify_global_var function\n",
    "modify_global_var()\n",
    "\n",
    "# Printing the new value of the global variable\n",
    "print(\"Global variable value: \", global_var)\n",
    "\n",
    "# Using the use_local_var function to print the value of a local variable\n",
    "use_local_var()\n"
   ]
  },
  {
   "cell_type": "markdown",
   "metadata": {
    "id": "29slM6uUKei4"
   },
   "source": [
    "👉 In the above example, global_var is a global variable that can be accessed from any part of the program, including within functions. The modify_global_var() function modifies the value of global_var by adding 5️⃣ to it. To modify a global variable within a function, you need to use the global keyword before the variable name.\n",
    "\n",
    "👉 The use_local_var() function defines a local variable local_var within the function. This variable is only accessible within the function and cannot be accessed outside of it. When the function is called, it prints the value of local_var.\n",
    "\n",
    "👉 It is generally considered best practice to use local variables whenever possible, rather than global variables. This is because local variables have a smaller scope, meaning they are only accessible within the function where they are defined. This can help to prevent unintended changes to the variable value and make the code more modular.\n",
    "\n",
    "👉 On the other hand, global variables can be accessed and modified from any part of the program, which can make it harder to keep track of changes to the variable value. Additionally, if multiple functions or modules in a program use the same global variable, it can lead to naming conflicts and make the code harder to maintain.\n",
    "\n",
    "👉 However, there may be situations where using global variables is necessary. For example, if a variable needs to be accessed and modified by multiple functions or modules in a program, using a global variable may be the best option.\n",
    "\n",
    "\n",
    "\n"
   ]
  },
  {
   "cell_type": "markdown",
   "metadata": {
    "id": "4p2U39aoZ28J"
   },
   "source": [
    "##**Activity 2:**"
   ]
  },
  {
   "cell_type": "markdown",
   "metadata": {
    "id": "egdt4_tKG8MT"
   },
   "source": [
    "Write a function which takes a string arguments and returns the reversed string to the user.\n",
    "\n",
    "my_string = \"Hello, world!\""
   ]
  },
  {
   "cell_type": "code",
   "execution_count": null,
   "metadata": {
    "id": "2hyJolUOhaxP"
   },
   "outputs": [],
   "source": [
    "# How to reverse a string\n",
    "# You need to plug in that code in a function"
   ]
  },
  {
   "cell_type": "code",
   "execution_count": null,
   "metadata": {
    "id": "wCLbC-ZoF_qW"
   },
   "outputs": [],
   "source": [
    "def reverse_string(string_input):\n",
    "    \"\"\"\n",
    "    Reverses a given string using slicing and indexing concepts.\n",
    "\n",
    "    Args:\n",
    "        string_input (str): The string to reverse.\n",
    "\n",
    "    Returns:\n",
    "        str: The reversed string.\n",
    "    \"\"\"\n",
    "\n",
    "    # Try out here\n",
    "\n",
    "\n",
    "my_string = \"Hello, world!\"\n",
    "reverses_string=reverse_string(my_string)"
   ]
  },
  {
   "cell_type": "markdown",
   "metadata": {
    "id": "FbL41fGWF9Uq"
   },
   "source": [
    "###Solution"
   ]
  },
  {
   "cell_type": "code",
   "execution_count": null,
   "metadata": {
    "id": "cPOOx3fDZ6oh"
   },
   "outputs": [],
   "source": [
    "def reverse_string(string_input):\n",
    "    \"\"\"\n",
    "    Reverses a given string using slicing and indexing concepts.\n",
    "\n",
    "    Args:\n",
    "        string_input (str): The string to reverse.\n",
    "\n",
    "    Returns:\n",
    "        str: The reversed string.\n",
    "    \"\"\"\n",
    "    # Reverse the string using indexing and slicing concepts.\n",
    "    reversed_string = string_input[::-1]\n",
    "\n",
    "    # Return the reversed string\n",
    "    return reversed_string\n"
   ]
  },
  {
   "cell_type": "code",
   "execution_count": null,
   "metadata": {
    "colab": {
     "base_uri": "https://localhost:8080/"
    },
    "id": "3pPPVZbXZ-UH",
    "outputId": "04057503-3e6a-41c7-8af1-75841abf8cb5"
   },
   "outputs": [
    {
     "name": "stdout",
     "output_type": "stream",
     "text": [
      "!dlrow ,olleH\n"
     ]
    }
   ],
   "source": [
    "my_string = \"Hello, world!\"\n",
    "reversed_string = reverse_string(my_string)\n",
    "print(reversed_string)\n"
   ]
  },
  {
   "cell_type": "markdown",
   "metadata": {
    "id": "5agx0fTVGfza"
   },
   "source": [
    "##**🤔Do you know🤔**\n"
   ]
  },
  {
   "cell_type": "markdown",
   "metadata": {
    "id": "5vxHUQOlH604"
   },
   "source": [
    "\n",
    "It's important to note that default parameters should always come after non-default parameters in the function definition. So in the example above, x is a non-default parameter, while y is a default parameter. This is because Python assigns values to parameters based on their position in the argument list."
   ]
  },
  {
   "cell_type": "code",
   "execution_count": null,
   "metadata": {
    "id": "XDBSFemaHzJc"
   },
   "outputs": [],
   "source": [
    "# This is not allowed, since non-default parameter follows default parameter\n",
    "def my_function(y=10, x):\n",
    "    # do something with x and y\n"
   ]
  },
  {
   "cell_type": "markdown",
   "metadata": {
    "id": "iYBa9Ko1GO7k"
   },
   "source": [
    "Keep this in mind while designing your functions!"
   ]
  },
  {
   "cell_type": "markdown",
   "metadata": {
    "id": "Bgr2eHW3HMaf"
   },
   "source": [
    "###Got the hang of using custom functions? Easy and convenient right? Let's level up the game a bit. 😉"
   ]
  },
  {
   "cell_type": "markdown",
   "metadata": {
    "id": "F7cCA90oaiaP"
   },
   "source": [
    "##**Activity 3:**"
   ]
  },
  {
   "cell_type": "markdown",
   "metadata": {
    "id": "ygmUb83rIWTs"
   },
   "source": [
    "🏋️‍♀️💻📱: You are developing a fitness app and need a function to calculate calories burned. Users input workout duration and activity type (🏃‍♀️,🏊‍♂️,🚴‍♂️), and the function calculates calories burned.\n",
    "\n",
    "📝👨‍💻: Write a function that uses a while loop to calculate calories burned. The function takes workout duration and activity type as input and calculates calories burned based on the duration and activity type.\n",
    "\n",
    "Refer to following chart:\n",
    "Running- Burns 10 calories per minute\n",
    "Swimming- Burns 8 calories per minute\n",
    "Cycling- Burn 6 calories per minute"
   ]
  },
  {
   "cell_type": "code",
   "execution_count": null,
   "metadata": {
    "id": "3tzomjiqFziW"
   },
   "outputs": [],
   "source": [
    "def calculate_calories_burned(duration_mins, activity):\n",
    "    \"\"\"\n",
    "    Calculate the number of calories burned during a workout based on the activity and duration.\n",
    "\n",
    "    Args:\n",
    "        duration_mins (int): The duration of the workout in minutes.\n",
    "        activity (str): The type of activity performed during the workout. Can be \"running\", \"swimming\", or \"cycling\".\n",
    "\n",
    "    Returns:\n",
    "        str: A string representation of the number of calories burned during the workout.\n",
    "    \"\"\"\n",
    "\n",
    "  # Try out here\n",
    "\n",
    "calculate_calories_burned(duration_mins = 20,activity = \"running\")"
   ]
  },
  {
   "cell_type": "markdown",
   "metadata": {
    "id": "7pTblksBF2Ti"
   },
   "source": [
    "###Solution"
   ]
  },
  {
   "cell_type": "code",
   "execution_count": null,
   "metadata": {
    "id": "a7pGceDyJE4K"
   },
   "outputs": [],
   "source": [
    "def calculate_calories_burned(duration_mins, activity):\n",
    "    \"\"\"\n",
    "    Calculate the number of calories burned during a workout based on the activity and duration.\n",
    "\n",
    "    Args:\n",
    "        duration_mins (int): The duration of the workout in minutes.\n",
    "        activity (str): The type of activity performed during the workout. Can be \"running\", \"swimming\", or \"cycling\".\n",
    "\n",
    "    Returns:\n",
    "        str: A string representation of the number of calories burned during the workout.\n",
    "    \"\"\"\n",
    "    # Initialize the variable to hold the number of calories burned\n",
    "    calories_burned = 0\n",
    "\n",
    "    # Initialize a counter to keep track of the duration of the workout\n",
    "    i = 0\n",
    "\n",
    "    # While the duration of the workout has not been reached, calculate the calories burned\n",
    "    while i < duration_mins:\n",
    "        if activity == \"running\":\n",
    "            calories_burned += 10\n",
    "        elif activity == \"swimming\":\n",
    "            calories_burned += 8\n",
    "        elif activity == \"cycling\":\n",
    "            calories_burned += 6\n",
    "        # Increment the counter to keep track of the duration of the workout\n",
    "        i += 1\n",
    "\n",
    "    # Return a string representation of the number of calories burned\n",
    "    return f\"{calories_burned} calories\"\n"
   ]
  },
  {
   "cell_type": "code",
   "execution_count": null,
   "metadata": {
    "colab": {
     "base_uri": "https://localhost:8080/",
     "height": 35
    },
    "id": "hEizZse1TwgV",
    "outputId": "98dd9543-be84-4fe3-cd55-d459951431ca"
   },
   "outputs": [
    {
     "data": {
      "application/vnd.google.colaboratory.intrinsic+json": {
       "type": "string"
      },
      "text/plain": [
       "'10 calories'"
      ]
     },
     "execution_count": 10,
     "metadata": {},
     "output_type": "execute_result"
    }
   ],
   "source": [
    "calculate_calories_burned(20,\"running\")"
   ]
  },
  {
   "cell_type": "markdown",
   "metadata": {
    "id": "gZea_hzgb-iH"
   },
   "source": [
    "### 🤔 Curious about the calories burnt for two activities?\n",
    "\n",
    "🔢 Try this out: calculate_calories_burned(20, \"running\") + calculate_calories_burned(20, \"swimming\")\n",
    "\n",
    "🔍 See how the function works!"
   ]
  },
  {
   "cell_type": "markdown",
   "metadata": {
    "id": "Gu_zKyyuJJRF"
   },
   "source": [
    "##**Activity 4:**"
   ]
  },
  {
   "cell_type": "markdown",
   "metadata": {
    "id": "ESRBcKYKJV8p"
   },
   "source": [
    "📝 Problem Scenario:\n",
    "\n",
    "A bookstore wants to keep track of their inventory and generate a report of the books that need to be restocked. They want to create a custom function in Python to calculate the quantity of books to order for each title. They have a list of books and their current stock quantity. They want to calculate the quantity of books to order **such that the inventory of each books is at least 10**.\n",
    "The function takes a dictionary of book titles as keys and current stock as values, as the input and should return a dictionary consisting of title as the key and number of books to be ordered as the value."
   ]
  },
  {
   "cell_type": "code",
   "execution_count": null,
   "metadata": {
    "id": "wOJ8O997Kexg"
   },
   "outputs": [],
   "source": [
    "# Here's the list of books.\n",
    "books = {\n",
    "    \"Harry Potter\": 10,\n",
    "    \"Lord of the Rings\": 5,\n",
    "    \"Game of Thrones\": 2,\n",
    "    \"The Hunger Games\": 8,\n",
    "    \"To Kill a Mockingbird\": 4\n",
    "}\n",
    "\n"
   ]
  },
  {
   "cell_type": "code",
   "execution_count": null,
   "metadata": {
    "id": "u2hRjxOhMbkf"
   },
   "outputs": [],
   "source": [
    "def calculate_books_to_order(books):\n",
    "    \"\"\"\n",
    "    Calculates the number of books to order for each title based on the current stock.\n",
    "\n",
    "    Args:\n",
    "        books (dict): A dictionary containing the titles and current stock of each book.\n",
    "\n",
    "    Returns:\n",
    "        dict: A dictionary containing the titles of the books that need to be ordered and the number of copies to order.\n",
    "    \"\"\"\n",
    "    # Try out here.\n",
    "\n",
    "\n",
    "calculate_books_to_order(books)"
   ]
  },
  {
   "cell_type": "markdown",
   "metadata": {
    "id": "RJs0mMWMMdXI"
   },
   "source": [
    "###Solution:"
   ]
  },
  {
   "cell_type": "code",
   "execution_count": null,
   "metadata": {
    "id": "tTXAuthEKy2Q"
   },
   "outputs": [],
   "source": [
    "def calculate_books_to_order(books):\n",
    "    \"\"\"\n",
    "    Calculates the number of books to order for each title based on the current stock.\n",
    "\n",
    "    Args:\n",
    "        books (dict): A dictionary containing the titles and current stock of each book.\n",
    "\n",
    "    Returns:\n",
    "        dict: A dictionary containing the titles of the books that need to be ordered and the number of copies to order.\n",
    "    \"\"\"\n",
    "    # Initialize an empty dictionary to hold the titles that need to be ordered and the quantities to order\n",
    "    books_to_order = {}\n",
    "\n",
    "    # Loop through each title and stock level in the input dictionary\n",
    "    for title, stock in books.items():\n",
    "        # If the stock is less than 10, calculate the quantity to order and add it to the output dictionary\n",
    "        if stock < 10:\n",
    "            quantity_to_order = 10 - stock\n",
    "            books_to_order[title] = quantity_to_order\n",
    "\n",
    "    # Return the output dictionary\n",
    "    return books_to_order\n"
   ]
  },
  {
   "cell_type": "code",
   "execution_count": null,
   "metadata": {
    "colab": {
     "base_uri": "https://localhost:8080/"
    },
    "id": "72o0Y9KWKgwi",
    "outputId": "28e33b81-1816-455c-db8a-dbfd7aa606cf"
   },
   "outputs": [
    {
     "name": "stdout",
     "output_type": "stream",
     "text": [
      "{'Lord of the Rings': 5, 'Game of Thrones': 8, 'The Hunger Games': 2, 'To Kill a Mockingbird': 6}\n"
     ]
    }
   ],
   "source": [
    "# Calculate the quantity of books to order for each title.\n",
    "books_to_order = calculate_books_to_order(books)\n",
    "print(books_to_order)"
   ]
  },
  {
   "cell_type": "code",
   "execution_count": null,
   "metadata": {
    "id": "dCyPkyBCiAbd"
   },
   "outputs": [],
   "source": [
    "def add_2(n1, n2):\n",
    "  return n1 + n2\n",
    "\n",
    "num_1 = 3\n",
    "num_2 = 4\n",
    "add_2(n1=num_1, n2=num_2)"
   ]
  },
  {
   "cell_type": "code",
   "execution_count": null,
   "metadata": {
    "id": "tTZfmaQ4ibtA"
   },
   "outputs": [],
   "source": [
    "# Recursion\n",
    "# When a function calls itself inside its definition\n",
    "def add_2(n1, n2):\n",
    "  ## some lines of code\n",
    "  res = add_2(n1, n2) # This call is for samll problem\n",
    "  ## some lines of code\n",
    "  ## return statment\n",
    "\n",
    "# this is used in the tasks where the problem can be\n",
    "# divides into small and similar pieces\n",
    "# a big problem --> break that problem into small and similar problem\n",
    "# if you will solve these samll problems your big problem will be solved\n",
    "#########\n",
    "####\n",
    "##\n",
    "#\n",
    "\n",
    "# This is end case for this we have default output from the function"
   ]
  },
  {
   "cell_type": "code",
   "execution_count": 52,
   "metadata": {
    "id": "1IsQch4gjgw2"
   },
   "outputs": [],
   "source": [
    "# Get nth number in a fibonacci sequence\n",
    "# fibonacci sequence --> 0, 1, 1, 2, 3, 5, 8, 13, .....\n",
    "# if n = 6 --> output = 5\n",
    "# fib(n) = fib(n-1) + fib(n-2)\n",
    "# number at nth position = number at (n-1)th pos + number at (n-2)th pos\n",
    "\n",
    "# fib(6) = fib(5) + fib(4) # breaking the problem into smaller problems\n",
    "# fib(6) = 3 + 2 = 5\n",
    "# fib(5) = fib(4) + fib(3) = 2 + 1 = 3\n",
    "# fib(4) = fib(3) + fib(2) = 1 + 1 = 2\n",
    "# fib(3) = fib(2) + fib(1) = 1 + 0 = 1\n",
    "\n",
    "# end case fib(1) = 0, fib(2) = 1\n",
    "\n",
    "# Recursive function\n",
    "def fib(n):\n",
    "  if(n<=0):\n",
    "    print(\"Invalid Input\")\n",
    "    return\n",
    "  # End cases\n",
    "  if(n==1):\n",
    "    return 0\n",
    "  elif(n==2):\n",
    "    return 1\n",
    "  return (fib(n-1) + fib(n-2)) # Function call\n",
    "\n",
    "# In a normal function or recursive you can use return statement multiple times\n",
    "# As and when return statement executes in a function the function ends there\n",
    "# result = fib(5)\n",
    "# # control flow\n",
    "# return (fib(4) + fib(3)) --> return (2 + 1) -- 3\n",
    "\n",
    "# fib(4)\n",
    "# return (fib(3) + fib(2)) --> return (1 + 1) --> 2\n",
    "\n",
    "# fib(3)\n",
    "# return (fib(2) + fib(1)) --> return (1 + fib(1)) --> return (1 + 0) --> 1\n",
    "\n",
    "# fib(2)\n",
    "# return 1\n",
    "\n",
    "# fib(1)\n",
    "# return 0\n",
    "\n",
    "## The control flow can be understood in recussion by running each line by one\n",
    "## But the control flow is very complex in Recursive function\n",
    "## So you will get good understanding of recursive func with practice only\n",
    "## End case are very imp --> stack overflow error\n",
    "## Use recursion only when you are not able to do the problem in any other way"
   ]
  },
  {
   "cell_type": "code",
   "execution_count": 53,
   "metadata": {
    "colab": {
     "base_uri": "https://localhost:8080/"
    },
    "id": "IS4g2TU2oup1",
    "outputId": "4762696a-f57c-4aed-c3a1-a4c2e0943f53"
   },
   "outputs": [
    {
     "data": {
      "text/plain": [
       "0"
      ]
     },
     "execution_count": 53,
     "metadata": {},
     "output_type": "execute_result"
    }
   ],
   "source": [
    "fib(1)"
   ]
  },
  {
   "cell_type": "markdown",
   "metadata": {
    "id": "er-KASNDi1my"
   },
   "source": []
  },
  {
   "cell_type": "markdown",
   "metadata": {
    "id": "A8uXqlXGcIyH"
   },
   "source": [
    "##**Recursion 🔃🔃🔃**"
   ]
  },
  {
   "cell_type": "markdown",
   "metadata": {
    "id": "kZh3TVMBdJU6"
   },
   "source": [
    "Recursion is a 👊 powerful concept in programming where a function calls itself from within its own 💻. In Python, recursion is often used to solve problems that can be broken down into smaller, similar problems.\n",
    "\n",
    "In a recursive function, the function is called with a parameter that is gradually reduced or changed until it reaches a 🧱 base case that can be directly solved. The base case is the simplest possible case that the function can solve without calling itself.\n",
    "\n",
    "Recursive functions can be used to solve problems like traversing a 🌳, searching through a 📜, or finding the factorial of a number 🧮. However, it's important to be careful when using recursion, as it can lead to infinite loops or stack overflow errors if not implemented correctly.\n",
    "\n",
    "\n",
    "\n"
   ]
  },
  {
   "cell_type": "markdown",
   "metadata": {
    "id": "vejZn4mte5Oy"
   },
   "source": [
    "Here's an example:"
   ]
  },
  {
   "cell_type": "code",
   "execution_count": null,
   "metadata": {
    "id": "15Etd8lqe4RI"
   },
   "outputs": [],
   "source": [
    "def factorial(n):\n",
    "    \"\"\"\n",
    "    Calculates the factorial of a non-negative integer.\n",
    "\n",
    "    Args:\n",
    "        n (int): A non-negative integer to calculate the factorial of.\n",
    "\n",
    "    Returns:\n",
    "        int: The factorial of the input integer.\n",
    "    \"\"\"\n",
    "    # Base case: if n is 0, the factorial is 1\n",
    "    if n == 0:\n",
    "        return 1\n",
    "    # Recursive case: multiply n by the factorial of n-1\n",
    "    else:\n",
    "        return n * factorial(n-1)\n"
   ]
  },
  {
   "cell_type": "markdown",
   "metadata": {
    "id": "bcokLYdzfB1h"
   },
   "source": [
    "In this function, we check for the base case where n is equal to 0. If it is, we return 1 since the factorial of 0 is 1. If n is not 0, we return n multiplied by the factorial of n-1. This will recursively call the factorial() function with n-1 until it reaches the base case.\n",
    "\n",
    "For example, if we call factorial(4), it will first return 4 * factorial(3), which will in turn return 4 * 3 * factorial(2), and so on, until it reaches factorial(0) which will return 1. Then the previous function calls will be resolved as shown below:\n",
    "\n",
    "\n",
    "factorial(4) = 4 * factorial(3) = 4 * 3 * factorial(2) = 4 * 3 * 2 * factorial(1) = 4 * 3 * 2 * 1 * factorial(0) = 4 * 3 * 2 * 1 * 1 = 24\n"
   ]
  },
  {
   "cell_type": "code",
   "execution_count": null,
   "metadata": {
    "colab": {
     "base_uri": "https://localhost:8080/"
    },
    "id": "si4S1PKXfBdq",
    "outputId": "908ed978-d873-4cf7-e22a-3e7ddde9625a"
   },
   "outputs": [
    {
     "data": {
      "text/plain": [
       "24"
      ]
     },
     "execution_count": 21,
     "metadata": {},
     "output_type": "execute_result"
    }
   ],
   "source": [
    "factorial(4)"
   ]
  },
  {
   "cell_type": "markdown",
   "metadata": {
    "id": "isMrZUCIgqzp"
   },
   "source": [
    "##**Activity 5:**\n"
   ]
  },
  {
   "cell_type": "markdown",
   "metadata": {
    "id": "aiXDKA23gwoy"
   },
   "source": [
    "Problem: Write a Python function that takes a positive integer n as input and returns the nth number in the Fibonacci sequence. The Fibonacci sequence is defined as follows:\n",
    "\n",
    "* The 0th number in the sequence is 0.\n",
    "* The 1st number in the sequence is 1.\n",
    "* For all n > 1, the nth number in the sequence is the sum of the (n-1)th and (n-2)th numbers in the sequence.\n",
    "\n",
    "* For example, the first few numbers in the Fibonacci sequence are:  \n",
    "0, 1, 1, 2, 3, 5, 8, 13, 21, 34, 55, ...\n"
   ]
  },
  {
   "cell_type": "code",
   "execution_count": null,
   "metadata": {
    "id": "dyRPhuGEhBoQ"
   },
   "outputs": [],
   "source": [
    "def fibonacci_sequence(n):\n",
    "    \"\"\"\n",
    "    Generates the Fibonacci sequence up to the n-th term.\n",
    "\n",
    "    Args:\n",
    "        n (int): The number of terms to generate in the sequence.\n",
    "\n",
    "    Returns:\n",
    "        list: A list containing the first n terms of the Fibonacci sequence.\n",
    "    \"\"\"\n",
    "\n",
    "    # Try out here:\n"
   ]
  },
  {
   "cell_type": "markdown",
   "metadata": {
    "id": "ZRRfXydEhEZN"
   },
   "source": [
    "###Solution"
   ]
  },
  {
   "cell_type": "code",
   "execution_count": null,
   "metadata": {
    "id": "m-Y3_NjAhD3J"
   },
   "outputs": [],
   "source": [
    "def fibonacci_sequence(n):\n",
    "    \"\"\"\n",
    "    Generates the Fibonacci sequence up to the n-th term.\n",
    "\n",
    "    Args:\n",
    "        n (int): The number of terms to generate in the sequence.\n",
    "\n",
    "    Returns:\n",
    "        list: A list containing the first n terms of the Fibonacci sequence.\n",
    "    \"\"\"\n",
    "    # Base cases: return empty list for n <= 0, [0] for n = 1, [0, 1] for n = 2\n",
    "    if n <= 0:\n",
    "        return []\n",
    "    elif n == 1:\n",
    "        return [0]\n",
    "    elif n == 2:\n",
    "        return [0, 1]\n",
    "    # Recursive case: generate the sequence up to n-1, then append the sum of the last two elements\n",
    "    else:\n",
    "        sequence = fibonacci_sequence(n-1)  # Generate the sequence up to n-1\n",
    "        sequence.append(sequence[-1] + sequence[-2])  # Append the sum of the last two elements\n",
    "        return sequence\n"
   ]
  },
  {
   "cell_type": "code",
   "execution_count": null,
   "metadata": {
    "colab": {
     "base_uri": "https://localhost:8080/"
    },
    "id": "yskFj3IFhH19",
    "outputId": "ab1b9db9-1c82-4119-d457-6b04f9775759"
   },
   "outputs": [
    {
     "data": {
      "text/plain": [
       "[0, 1, 1, 2, 3, 5, 8, 13, 21, 34, 55, 89, 144]"
      ]
     },
     "execution_count": 15,
     "metadata": {},
     "output_type": "execute_result"
    }
   ],
   "source": [
    "fibonacci_sequence(13)"
   ]
  },
  {
   "cell_type": "markdown",
   "metadata": {
    "id": "EG5btUz0OA3Y"
   },
   "source": [
    "# **✅ Summary ✅**"
   ]
  },
  {
   "cell_type": "markdown",
   "metadata": {
    "id": "eVr09ThVOInZ"
   },
   "source": [
    "##What did you learn:\n",
    "\n",
    "Custom functions in Python are a way to group together instructions or algorithms to perform a specific task or operation. They offer modularity, abstraction, encapsulation, reusability, and parameterization, which simplifies writing, managing, and debugging code. Functions can be tailored to accommodate various input parameters and can be used across several programs or scripts. Through custom functions, developers can create more efficient, reusable ♻️, and adaptable 💪 code.\n",
    "\n",
    "\n",
    "\n",
    "\n",
    "\n",
    "\n",
    "\n",
    "\n",
    "\n",
    "\n",
    "\n",
    "\n",
    "\n"
   ]
  },
  {
   "cell_type": "markdown",
   "metadata": {
    "id": "XX9n6caJQH1_"
   },
   "source": [
    "# **➕ Additional Reading ➕**"
   ]
  },
  {
   "cell_type": "markdown",
   "metadata": {
    "id": "TyGgEEWJHvcv"
   },
   "source": [
    "##**Additional Practice Problems.**"
   ]
  },
  {
   "cell_type": "markdown",
   "metadata": {
    "id": "QacdQLFGjz9G"
   },
   "source": [
    "\n",
    "\n",
    "1. **A teacher wants to create a Python function to grade a multiple-choice test. The function should take one argument: a list of answers given by a student. The function should compare the answers given by the student with the predefined answer key and return the score obtained. Each correct answer is worth 1 point, and each incorrect  answer is worth 0 points.**"
   ]
  },
  {
   "cell_type": "code",
   "execution_count": null,
   "metadata": {
    "id": "Ni7WUHgRMkDC"
   },
   "outputs": [],
   "source": [
    "# Here is the answer key\n",
    "answer_key = [\"A\", \"B\", \"C\", \"D\", \"E\"]\n",
    "\n",
    "# Here are the student's answers\n",
    "student_answers = [\"A\", \"C\", \"A\", \"D\", \"E\"]"
   ]
  },
  {
   "cell_type": "code",
   "execution_count": null,
   "metadata": {
    "id": "BxJtYXjHNSRu"
   },
   "outputs": [],
   "source": [
    "# Try out here"
   ]
  },
  {
   "cell_type": "code",
   "execution_count": null,
   "metadata": {
    "id": "eW3rE3SnMY-A"
   },
   "outputs": [],
   "source": [
    "def grade_test(student_answers):\n",
    "    \"\"\"\n",
    "    Grades a test based on the student's answers and an answer key.\n",
    "\n",
    "    Args:\n",
    "        student_answers (list): A list of the student's answers to the test questions.\n",
    "\n",
    "    Returns:\n",
    "        int: The student's score on the test.\n",
    "    \"\"\"\n",
    "    answer_key = [\"A\", \"B\", \"C\", \"D\", \"E\"]\n",
    "    score = 0\n",
    "\n",
    "    # Loop through each answer and compare it to the corresponding answer in the answer key\n",
    "    for i in range(len(student_answers)):\n",
    "        if student_answers[i] == answer_key[i]:\n",
    "            score += 1  # Increment the score if the answer is correct\n",
    "        else:\n",
    "            score += 0  # No change in score if the answer is incorrect\n",
    "\n",
    "    return score\n"
   ]
  },
  {
   "cell_type": "code",
   "execution_count": null,
   "metadata": {
    "colab": {
     "base_uri": "https://localhost:8080/"
    },
    "id": "XYfW4Zo_MrQF",
    "outputId": "014bcfef-22e1-47ef-e249-9f0b98ef51fe"
   },
   "outputs": [
    {
     "name": "stdout",
     "output_type": "stream",
     "text": [
      "3\n"
     ]
    }
   ],
   "source": [
    "# Grade the test and print the score\n",
    "score = grade_test(student_answers)\n",
    "print(score)"
   ]
  },
  {
   "cell_type": "markdown",
   "metadata": {
    "id": "d2_4Xun7allS"
   },
   "source": [
    "2. **Write a function that takes a list of integers as input and returns the sum of the squares of the even numbers in the list.**"
   ]
  },
  {
   "cell_type": "code",
   "execution_count": null,
   "metadata": {
    "id": "hGd1rOc3bO9v"
   },
   "outputs": [],
   "source": [
    "def sum_of_even_squares(lst):\n",
    "   \"\"\"\n",
    "    Calculates the sum of the squares of all even numbers in a list.\n",
    "\n",
    "    Args:\n",
    "        lst (list): A list of numbers.\n",
    "\n",
    "    Returns:\n",
    "        int: The sum of the squares of all even numbers in the list.\n",
    "    \"\"\"\n",
    "    total = 0\n",
    "    for num in lst:\n",
    "        if num % 2 == 0:\n",
    "            total += num ** 2\n",
    "    return total"
   ]
  },
  {
   "cell_type": "code",
   "execution_count": null,
   "metadata": {
    "colab": {
     "base_uri": "https://localhost:8080/"
    },
    "id": "_Pzi7zpKbncO",
    "outputId": "313ff1ec-e29e-45e2-9014-b1dc4b7789fd"
   },
   "outputs": [
    {
     "name": "stdout",
     "output_type": "stream",
     "text": [
      "220\n"
     ]
    }
   ],
   "source": [
    "numbers = [1, 2, 3, 4, 5, 6, 7, 8, 9, 10]\n",
    "even_squares_sum = sum_of_even_squares(numbers)\n",
    "print(even_squares_sum)"
   ]
  },
  {
   "cell_type": "markdown",
   "metadata": {
    "id": "VrK-FEkAbeAz"
   },
   "source": [
    "3. **Write a function that takes a string as input and returns a new string with all vowels removed.**"
   ]
  },
  {
   "cell_type": "code",
   "execution_count": null,
   "metadata": {
    "id": "jUOaRY-rbgos"
   },
   "outputs": [],
   "source": [
    "def remove_vowels(string):\n",
    "  \"\"\"\n",
    "    Removes vowels from a given string and returns the new string.\n",
    "\n",
    "    Args:\n",
    "        string (str): The input string.\n",
    "\n",
    "    Returns:\n",
    "        str: The input string with vowels removed.\n",
    "  \"\"\"\n",
    "    vowels = \"aeiouAEIOU\"\n",
    "    new_string = \"\"\n",
    "    for char in string:\n",
    "        if char not in vowels:\n",
    "            new_string += char\n",
    "    return new_string"
   ]
  },
  {
   "cell_type": "code",
   "execution_count": null,
   "metadata": {
    "colab": {
     "base_uri": "https://localhost:8080/"
    },
    "id": "4pR9UOTXbvpS",
    "outputId": "eacca1a4-5f22-4111-fa85-6a8399d3f3c8"
   },
   "outputs": [
    {
     "name": "stdout",
     "output_type": "stream",
     "text": [
      "Hll, Wrld!\n"
     ]
    }
   ],
   "source": [
    "my_string = \"Hello, World!\"\n",
    "no_vowels_string = remove_vowels(my_string)\n",
    "print(no_vowels_string)"
   ]
  },
  {
   "cell_type": "markdown",
   "metadata": {
    "id": "JSsuJSPZb3qI"
   },
   "source": [
    "4. **Write a function that takes a list of strings as input and returns a new list with all strings in uppercase.**"
   ]
  },
  {
   "cell_type": "code",
   "execution_count": null,
   "metadata": {
    "id": "MPzdlrBrb6FB"
   },
   "outputs": [],
   "source": [
    "def uppercase_list(lst):\n",
    "   \"\"\"\n",
    "    Converts all strings in a list to uppercase.\n",
    "\n",
    "    Args:\n",
    "        lst (list): A list of strings.\n",
    "\n",
    "    Returns:\n",
    "        list: A new list with all strings in uppercase.\n",
    "    \"\"\"\n",
    "    new_list = []\n",
    "    for string in lst:\n",
    "        new_list.append(string.upper())\n",
    "    return new_list"
   ]
  },
  {
   "cell_type": "code",
   "execution_count": null,
   "metadata": {
    "colab": {
     "base_uri": "https://localhost:8080/"
    },
    "id": "O7MiUD-KcL2I",
    "outputId": "9471f600-4715-41b1-bc5e-c5dc4e558b38"
   },
   "outputs": [
    {
     "name": "stdout",
     "output_type": "stream",
     "text": [
      "['APPLE', 'BANANA', 'CHERRY', 'DATE']\n"
     ]
    }
   ],
   "source": [
    "words = [\"apple\", \"banana\", \"cherry\", \"date\"]\n",
    "upper_words = uppercase_list(words)\n",
    "print(upper_words)"
   ]
  },
  {
   "cell_type": "markdown",
   "metadata": {
    "id": "ndYA3rZVcGmk"
   },
   "source": [
    "5. **Write a function that takes a dictionary as input and returns a new dictionary with the same keys but with all values squared.**"
   ]
  },
  {
   "cell_type": "code",
   "execution_count": null,
   "metadata": {
    "id": "heabV2jucI_5"
   },
   "outputs": [],
   "source": [
    "def square_dict_values(dct):\n",
    "    \"\"\"\n",
    "    Given a dictionary, returns a new dictionary with the same keys as the input dictionary, but with the values squared.\n",
    "\n",
    "    Args:\n",
    "    - dct: A dictionary with numeric values.\n",
    "\n",
    "    Returns:\n",
    "    - A new dictionary with the same keys as the input dictionary, but with the values squared.\n",
    "    \"\"\"\n",
    "    new_dict = {}\n",
    "    for key, value in dct.items():\n",
    "        new_dict[key] = value ** 2\n",
    "    return new_dict"
   ]
  },
  {
   "cell_type": "code",
   "execution_count": null,
   "metadata": {
    "colab": {
     "base_uri": "https://localhost:8080/"
    },
    "id": "Wkbxt_ewcYb1",
    "outputId": "e3c17fea-f58e-476f-e463-752df6ba43c6"
   },
   "outputs": [
    {
     "name": "stdout",
     "output_type": "stream",
     "text": [
      "{'a': 1, 'b': 4, 'c': 9, 'd': 16}\n"
     ]
    }
   ],
   "source": [
    "my_dict = {\"a\": 1, \"b\": 2, \"c\": 3, \"d\": 4}\n",
    "squared_dict = square_dict_values(my_dict)\n",
    "print(squared_dict)"
   ]
  },
  {
   "cell_type": "markdown",
   "metadata": {
    "id": "mpewuUOEdEEF"
   },
   "source": [
    "6. **Write a function reverse_string that takes a string as input and returns the string reversed**"
   ]
  },
  {
   "cell_type": "code",
   "execution_count": null,
   "metadata": {
    "colab": {
     "base_uri": "https://localhost:8080/"
    },
    "id": "lAgBVJaQdHp9",
    "outputId": "75f0b7ef-3930-4789-d747-fefdbd123b90"
   },
   "outputs": [
    {
     "name": "stdout",
     "output_type": "stream",
     "text": [
      "!dlroW ,olleH\n"
     ]
    }
   ],
   "source": [
    "def reverse_string(string):\n",
    "    \"\"\"\n",
    "    Return a reversed version of the input string.\n",
    "    \"\"\"\n",
    "    reversed_string = \"\"\n",
    "    for i in range(len(string)-1, -1, -1):  # Loop over the string in reverse order\n",
    "        reversed_string += string[i]  # Add each character to the reversed string\n",
    "    return reversed_string\n",
    "\n",
    "\n",
    "my_string = \"Hello, World!\"\n",
    "reversed_string = reverse_string(my_string)\n",
    "print(reversed_string)"
   ]
  },
  {
   "cell_type": "markdown",
   "metadata": {
    "id": "8WacSKM3P5Yt"
   },
   "source": [
    "##**Mnemonic**\n",
    "\n",
    "\n",
    "Once upon a time, there was a 💻 programmer named Sarah who was working on a project that required a lot of repetitive tasks. She realized that writing the same code over and over again was not only ⏰time-consuming but also prone to errors.\n",
    "\n",
    "So Sarah decided to create custom functions in Python to automate the repetitive tasks. She started by identifying the common patterns in the code and breaking them down into separate functions. She gave each function a clear name that reflected its purpose, making it easier to understand and maintain.\n",
    "\n",
    "🧱 Sarah's custom functions allowed her to modularize her code and avoid duplicating it. She was able to write more efficient and readable code, as she could reuse the same functions across multiple parts of her program.\n",
    "\n",
    "With her custom functions, Sarah was also able to abstract away the complexity of the code, making it easier to understand and reason about. She parameterized her functions to make them adaptable to different inputs, giving her more flexibility and allowing her to create more reusable code.\n",
    "\n",
    "Thanks to her custom functions, Sarah was able to complete her project on time and with fewer errors. She also realized that by creating reusable functions, she had made her code more adaptable for future projects. Sarah learned that creating custom functions was an essential skill for any 💻 programmer who wants to write efficient, readable, and maintainable code.\n",
    "\n",
    "\n",
    "\n",
    "\n"
   ]
  },
  {
   "cell_type": "markdown",
   "metadata": {
    "id": "xXd3kn7VQVrh"
   },
   "source": [
    "##**Best Practices/Tips**\n",
    "\n",
    "1. 🔍 Keep your functions small and focused: Each function should have a single responsibility, making it easier to read, understand, and test.\n",
    "2. 🏷️ Use clear and descriptive names: Choose a name that accurately reflects what the function does, making it easier to use and maintain.\n",
    "3. 📝 Write docstrings: Use docstrings to describe the purpose, input parameters, and output of your function. This makes it easier for other developers to understand and use your code.\n",
    "4. 🛡️ Use default arguments: Use default arguments to make your functions more flexible and adaptable to different use cases.\n",
    "5. 🚫 Avoid global variables: Global variables can make it harder to debug and maintain your code. Instead, pass all necessary data as input parameters.\n",
    "6. 🙅‍♀️ Avoid side effects: A function should not modify any variables outside of its scope or have any side effects. This can make your code harder to reason about and debug.\n",
    "7. ✅ Test your functions: Create test cases for your functions to ensure that they work as expected and handle edge cases correctly.\n",
    "8. 🔁 Be consistent: Follow a consistent style throughout your code, including naming conventions, formatting, and variable naming.\n",
    "\n",
    "\n",
    "\n",
    "\n"
   ]
  },
  {
   "cell_type": "markdown",
   "metadata": {
    "id": "imIg9fjFQiPu"
   },
   "source": [
    "##**Shortcomings**\n",
    "1. 🐌 Performance overhead: Depending on the complexity of the function and the amount of data being processed, using a custom function can sometimes result in slower execution times than writing the code inline.\n",
    "\n",
    "2. 👀 Abstraction can be a double-edged sword: While abstraction can help make your code more modular and easier to understand, it can also make it harder to see the underlying implementation details and performance implications.\n",
    "\n",
    "3. 🕸️ Dependencies and compatibility issues: If you're using custom functions from external libraries or packages, you may run into issues with compatibility or versioning.\n",
    "\n",
    "4. 🤖 Debugging can be tricky: If you're using a lot of custom functions in your code, it can be challenging to debug errors or trace the flow of data through your program.\n",
    "\n",
    "5. 🧪 Testing can be time-consuming: Creating robust test cases for your custom functions can be time-consuming, but it's crucial to ensure that your code is working as expected.\n",
    "\n",
    "\n",
    "\n",
    "\n",
    "\n",
    "\n",
    "\n",
    "\n",
    "\n",
    "\n",
    "\n",
    "\n",
    "\n"
   ]
  }
 ],
 "metadata": {
  "colab": {
   "provenance": []
  },
  "kernelspec": {
   "display_name": "Python 3 (ipykernel)",
   "language": "python",
   "name": "python3"
  },
  "language_info": {
   "codemirror_mode": {
    "name": "ipython",
    "version": 3
   },
   "file_extension": ".py",
   "mimetype": "text/x-python",
   "name": "python",
   "nbconvert_exporter": "python",
   "pygments_lexer": "ipython3",
   "version": "3.7.13"
  }
 },
 "nbformat": 4,
 "nbformat_minor": 4
}
